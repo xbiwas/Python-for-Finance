import datetime as dt
import pandas as pd
from pandas_datareader import data as pdr
import yfinance as yf
yf.pdr_override()

end = dt.datetime.now()
start = dt.datetime(2000,1,1)
start, end

stockList = ['CBA', 'NAB', 'WBC', 'ANZ']
stocks = [i + '.AX' for i in stockList]
stocks

df = pdr.get_data_yahoo(stocks, start, end)
df.head()
